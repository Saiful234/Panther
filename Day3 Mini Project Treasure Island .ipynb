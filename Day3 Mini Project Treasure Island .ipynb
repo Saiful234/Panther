{
 "cells": [
  {
   "cell_type": "code",
   "execution_count": 1,
   "metadata": {},
   "outputs": [
    {
     "name": "stdout",
     "output_type": "stream",
     "text": [
      "You're at a crossroad. Where do you want to go? Type 'left' or 'right'. right\n",
      "You fell into a hole. Game Over.\n"
     ]
    }
   ],
   "source": [
    "road = input(\n",
    "    \"You're at a crossroad. Where do you want to go? Type 'left' or 'right'. \")\n",
    "if road == \"left\":\n",
    "    lake = input(\n",
    "    \"You've come to a lake. There is an island in the middle of the lake. Type 'wait' to wait for a boat. Type 'swim' to swim across. \"\n",
    ")\n",
    "    print(lake)\n",
    "\n",
    "    if lake == \"wait\":\n",
    "        island = input(\n",
    "    \"You arrive at the island unharmed. There is a house with 3 doors. One red, one yellow and one blue. Which colour do you choose?. \"\n",
    ")\n",
    "        print(island)\n",
    "        \n",
    "        if island == \"yellow\":\n",
    "            print(\"You found the treasure! You win!\")\n",
    "        elif island == \"blue\":\n",
    "            print(\"You enter a room of beasts. Game Over.\")\n",
    "        elif island == \"red\":\n",
    "            print(\"It's a room full of fire. Game Over.\")\n",
    "        else:\n",
    "            print(\"Game over!\")\n",
    "    else:\n",
    "        print(\"You get attacked by an angry trout. Game Over.\")\n",
    "else:\n",
    "    print(\"You fell into a hole. Game Over.\")"
   ]
  },
  {
   "cell_type": "code",
   "execution_count": null,
   "metadata": {},
   "outputs": [],
   "source": []
  }
 ],
 "metadata": {
  "kernelspec": {
   "display_name": "Python 3",
   "language": "python",
   "name": "python3"
  },
  "language_info": {
   "codemirror_mode": {
    "name": "ipython",
    "version": 3
   },
   "file_extension": ".py",
   "mimetype": "text/x-python",
   "name": "python",
   "nbconvert_exporter": "python",
   "pygments_lexer": "ipython3",
   "version": "3.7.1"
  }
 },
 "nbformat": 4,
 "nbformat_minor": 2
}
