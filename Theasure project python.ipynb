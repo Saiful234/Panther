{
 "cells": [
  {
   "cell_type": "code",
   "execution_count": 1,
   "metadata": {},
   "outputs": [
    {
     "name": "stdout",
     "output_type": "stream",
     "text": [
      "You're at a corssroad. Where do you want to go? Type \"left\" or \"right\" left\n",
      "You've come to a lake. There is an island in the middle of the lake. Type \"wait\" to wait for a boat. or Type \"swim\" to swim across.wait\n",
      "\"You arrive at the island unharmed. There is a house with 3 doors. One red, one yellow and one blue. Which colour do you choose\"blue\n",
      "\"You fell into a hole. Game over!.\"\n"
     ]
    }
   ],
   "source": [
    "crossroad = input('You\\'re at a corssroad. Where do you want to go? Type \"left\" or \"right\" ').lower()\n",
    "\n",
    "\n",
    "\n",
    "if crossroad == \"left\":\n",
    "  lake = input('You\\'ve come to a lake. There is an island in the middle of the lake. Type \"wait\" to wait for a boat. or Type \"swim\" to swim across.').lower()\n",
    "\n",
    "  if lake == \"wait\":\n",
    "    island = input('\"You arrive at the island unharmed. There is a house with 3 doors. One red, one yellow and one blue. Which colour do you choose\"').lower()\n",
    "    if island == \"red\":\n",
    "        print('\"You found the teasure! You win\"')\n",
    "    elif island == \"yellow\":\n",
    "        print('\"You enter a room of beasts. Game over!.\"')\n",
    "    elif island == \"blue\":\n",
    "        print('\"You fell into a hole. Game over!.\"')\n",
    "    else:\n",
    "        print('\"You chose a door that does not exist. Game Over.\"')\n",
    "  else:\n",
    "    print('\"You get attacked by an angry trout. Game over!.\"')\n",
    "else:\n",
    "  print('\"Gameover!.\"')"
   ]
  }
 ],
 "metadata": {
  "kernelspec": {
   "display_name": "Python 3",
   "language": "python",
   "name": "python3"
  },
  "language_info": {
   "codemirror_mode": {
    "name": "ipython",
    "version": 3
   },
   "file_extension": ".py",
   "mimetype": "text/x-python",
   "name": "python",
   "nbconvert_exporter": "python",
   "pygments_lexer": "ipython3",
   "version": "3.7.1"
  }
 },
 "nbformat": 4,
 "nbformat_minor": 2
}
