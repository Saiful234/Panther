{
 "cells": [
  {
   "cell_type": "code",
   "execution_count": null,
   "metadata": {},
   "outputs": [
    {
     "name": "stdout",
     "output_type": "stream",
     "text": [
      "\n",
      " _______           _______  _______  _______   _________          _______    _                 _______  ______   _______  _______ \n",
      "(  ____ \\|\\     /|(  ____ \\(  ____ \\(  ____ \\  \\__   __/|\\     /|(  ____ \\  ( (    /||\\     /|(       )(  ___ \\ (  ____ \\(  ____ )\n",
      "| (    \\/| )   ( || (    \\/| (    \\/| (    \\/     ) (   | )   ( || (    \\/  |  \\  ( || )   ( || () () || (   ) )| (    \\/| (    )|\n",
      "| |      | |   | || (__    | (_____ | (_____      | |   | (___) || (__      |   \\ | || |   | || || || || (__/ / | (__    | (____)|\n",
      "| | ____ | |   | ||  __)   (_____  )(_____  )     | |   |  ___  ||  __)     | (\\ \\) || |   | || |(_)| ||  __ (  |  __)   |     __)\n",
      "| | \\_  )| |   | || (            ) |      ) |     | |   | (   ) || (        | | \\   || |   | || |   | || (  \\ \\ | (      | (\\ (   \n",
      "| (___) || (___) || (____/\\/\\____) |/\\____) |     | |   | )   ( || (____/\\  | )  \\  || (___) || )   ( || )___) )| (____/\\| ) \\ \\__\n",
      "(_______)(_______)(_______/\\_______)\\_______)     )_(   |/     \\|(_______/  |/    )_)(_______)|/     \\||/ \\___/ (_______/|/   \\__/\n",
      "                                                                                                                                  \n",
      "\n",
      "Welcome to number guessing game!.\n",
      "I'm thinking of a number between 1 and 100\n"
     ]
    }
   ],
   "source": [
    "logo =\"\"\"\n",
    " _______           _______  _______  _______   _________          _______    _                 _______  ______   _______  _______ \n",
    "(  ____ \\|\\     /|(  ____ \\(  ____ \\(  ____ \\  \\__   __/|\\     /|(  ____ \\  ( (    /||\\     /|(       )(  ___ \\ (  ____ \\(  ____ )\n",
    "| (    \\/| )   ( || (    \\/| (    \\/| (    \\/     ) (   | )   ( || (    \\/  |  \\  ( || )   ( || () () || (   ) )| (    \\/| (    )|\n",
    "| |      | |   | || (__    | (_____ | (_____      | |   | (___) || (__      |   \\ | || |   | || || || || (__/ / | (__    | (____)|\n",
    "| | ____ | |   | ||  __)   (_____  )(_____  )     | |   |  ___  ||  __)     | (\\ \\) || |   | || |(_)| ||  __ (  |  __)   |     __)\n",
    "| | \\_  )| |   | || (            ) |      ) |     | |   | (   ) || (        | | \\   || |   | || |   | || (  \\ \\ | (      | (\\ (   \n",
    "| (___) || (___) || (____/\\/\\____) |/\\____) |     | |   | )   ( || (____/\\  | )  \\  || (___) || )   ( || )___) )| (____/\\| ) \\ \\__\n",
    "(_______)(_______)(_______/\\_______)\\_______)     )_(   |/     \\|(_______/  |/    )_)(_______)|/     \\||/ \\___/ (_______/|/   \\__/\n",
    "                                                                                                                                  \n",
    "\"\"\"\n",
    "import random\n",
    "easy_turns = 10\n",
    "hard_turn = 5\n",
    "turns = 0\n",
    "\n",
    "def validate_answer(user_guess, number, turns):\n",
    "    if user_guess > number:\n",
    "        print(\"too high\")\n",
    "        return turns - 1\n",
    "    elif user_guess < number:\n",
    "        print(\"too low\")\n",
    "        return turns - 1 \n",
    "    elif user_guess == number:\n",
    "        print(f\"You got it, The answer was: {number}\")\n",
    "        \n",
    "\n",
    "def set_difficulty():\n",
    "  difficulty = input(\"Choose a difficulty, Type 'hard' or 'easy': \")\n",
    "  if difficulty == \"hard\":\n",
    "    return hard_turn\n",
    "  else:\n",
    "    return easy_turns\n",
    "\n",
    "def play_game():\n",
    "  print(logo)\n",
    "  print(\"Welcome to number guessing game!.\")\n",
    "  print(\"I'm thinking of a number between 1 and 100\")\n",
    "  number = random.randint(1,100)\n",
    "#   print(f\"Computer chose {number}\")\n",
    "  turns = set_difficulty()\n",
    "  \n",
    "  user_guess = 0\n",
    "  while user_guess != number:\n",
    "    print(f\"You have {turns} attempts remaining to guess the number.\")\n",
    "    user_guess = int(input(\"Guess a number: \"))\n",
    "    turns = validate_answer(user_guess, number, turns) \n",
    "    if turns == 0:\n",
    "      print(\"You have ran out of guesses, you lose.\")\n",
    "      return\n",
    "    elif user_guess != number:\n",
    "      print(\"Guess again.\")\n",
    "play_game()"
   ]
  },
  {
   "cell_type": "code",
   "execution_count": null,
   "metadata": {},
   "outputs": [],
   "source": []
  }
 ],
 "metadata": {
  "kernelspec": {
   "display_name": "Python 3",
   "language": "python",
   "name": "python3"
  },
  "language_info": {
   "codemirror_mode": {
    "name": "ipython",
    "version": 3
   },
   "file_extension": ".py",
   "mimetype": "text/x-python",
   "name": "python",
   "nbconvert_exporter": "python",
   "pygments_lexer": "ipython3",
   "version": "3.7.1"
  }
 },
 "nbformat": 4,
 "nbformat_minor": 2
}
