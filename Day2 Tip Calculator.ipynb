{
 "cells": [
  {
   "cell_type": "code",
   "execution_count": 1,
   "metadata": {},
   "outputs": [
    {
     "name": "stdout",
     "output_type": "stream",
     "text": [
      "Welcome to the tip calculator!\n",
      "What was the total bill? $150.99\n",
      "How much tip would you like to give? 10\n",
      "How many people to split the bill? 4\n",
      "Each person should pay: $41.52\n"
     ]
    }
   ],
   "source": [
    "print(\"Welcome to the tip calculator!\")\n",
    "total_bill = float(input(\"What was the total bill? $\"))\n",
    "tip = int(input(\"How much tip would you like to give? \"))\n",
    "split = int(input(\"How many people to split the bill? \"))\n",
    "\n",
    "tip_amt = (tip/100*total_bill)+total_bill\n",
    "split_amt = tip_amt/split\n",
    "final_amt = round(split_amt,2)\n",
    "final_amt = \"{:.2f}\".format(split_amt)\n",
    "print(f\"Each person should pay: ${final_amt}\")"
   ]
  }
 ],
 "metadata": {
  "kernelspec": {
   "display_name": "Python 3",
   "language": "python",
   "name": "python3"
  },
  "language_info": {
   "codemirror_mode": {
    "name": "ipython",
    "version": 3
   },
   "file_extension": ".py",
   "mimetype": "text/x-python",
   "name": "python",
   "nbconvert_exporter": "python",
   "pygments_lexer": "ipython3",
   "version": "3.7.1"
  }
 },
 "nbformat": 4,
 "nbformat_minor": 2
}
