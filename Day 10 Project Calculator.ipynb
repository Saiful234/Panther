{
 "cells": [
  {
   "cell_type": "code",
   "execution_count": null,
   "metadata": {},
   "outputs": [],
   "source": [
    "def add(n1,n2):\n",
    "  a = n1+n2\n",
    "  return a \n",
    "def sub(n1,n2):\n",
    "  b = n1-n2\n",
    "  return b\n",
    "def multiply(n1,n2):\n",
    "  c = n1*n2\n",
    "  return c\n",
    "def divide(n1, n2):\n",
    "  d = n1/n2\n",
    "  return d\n",
    "def square(n1,n2):\n",
    "  e = n1**n2\n",
    "  return e\n",
    "\n",
    "operators = {\"+\":add, \"-\":sub, \"*\":multiply, \"/\":divide, \"**\": square}\n",
    "\n",
    "def py_calculator():\n",
    "  num1 = int(input(\"Enter a first number: \"))\n",
    "  for operator in operators:\n",
    "    print(operator)\n",
    "  \n",
    "  calculator = True\n",
    "  \n",
    "  while calculator:\n",
    "    operator_symbol = input(\"Enter a operator symbol from above line: \")\n",
    "    num2 = int(input(\"Enter a second number: \"))\n",
    "    function = operators[operator_symbol]\n",
    "    answer = function(num1,num2)\n",
    "    print(f\"{num1} {operator_symbol} {num2} = {answer}\")\n",
    "    \n",
    "    should_continue = input(f\"Type 'y' for continue calculating with {answer}, or type 'n' to start new calculation.\")\n",
    "    if should_continue == \"y\":\n",
    "      num1 = answer\n",
    "    else:\n",
    "      calculator = False\n",
    "      py_calculator()\n",
    "      \n",
    "      \n",
    "py_calculator()\n"
   ]
  },
  {
   "cell_type": "code",
   "execution_count": null,
   "metadata": {},
   "outputs": [],
   "source": []
  }
 ],
 "metadata": {
  "kernelspec": {
   "display_name": "Python 3",
   "language": "python",
   "name": "python3"
  },
  "language_info": {
   "codemirror_mode": {
    "name": "ipython",
    "version": 3
   },
   "file_extension": ".py",
   "mimetype": "text/x-python",
   "name": "python",
   "nbconvert_exporter": "python",
   "pygments_lexer": "ipython3",
   "version": "3.7.1"
  }
 },
 "nbformat": 4,
 "nbformat_minor": 2
}
